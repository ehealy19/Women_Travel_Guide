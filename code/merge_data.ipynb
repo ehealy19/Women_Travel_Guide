{
 "cells": [
  {
   "cell_type": "code",
   "execution_count": 1,
   "metadata": {},
   "outputs": [],
   "source": [
    "import pandas as pd\n",
    "import pycountry\n",
    "import os"
   ]
  },
  {
   "cell_type": "code",
   "execution_count": 2,
   "metadata": {},
   "outputs": [],
   "source": [
    "def get_iso3(country_name):\n",
    "    try:\n",
    "        return pycountry.countries.lookup(country_name).alpha_3\n",
    "    except LookupError:\n",
    "        return None  # If not found, return None"
   ]
  },
  {
   "cell_type": "code",
   "execution_count": 6,
   "metadata": {},
   "outputs": [],
   "source": [
    "def process_country_data(file_path):\n",
    "    \"\"\"\n",
    "    Reads a CSV, removes the ISO-related column, renames the country column, \n",
    "    adds an ISO3 code column, and saves the modified CSV in 'Data With Codes/'.\n",
    "    \"\"\"\n",
    "    # Load CSV\n",
    "    df = pd.read_csv(file_path)\n",
    "    \n",
    "    # Drop any column named 'ISO', 'ISO Code', or 'Country Code' if present\n",
    "    iso_columns = [\"ISO\", \"ISO Code\", \"Country Code\", \"Code\"]\n",
    "    df = df.drop(columns=[col for col in iso_columns if col in df.columns], errors=\"ignore\")\n",
    "\n",
    "    # Rename 'Country Name', 'Entity', or 'country' to 'Country'\n",
    "    country_columns = [\"Country Name\", \"Entity\", \"country\"]\n",
    "    for col in country_columns:\n",
    "        if col in df.columns:\n",
    "            df = df.rename(columns={col: \"Country\"})\n",
    "            break  # Only rename the first match\n",
    "\n",
    "    # Ensure 'Country' column exists\n",
    "    if \"Country\" not in df.columns:\n",
    "        raise ValueError(f\"No recognized country column found in {file_path}\")\n",
    "\n",
    "    # Convert country names to ISO 3-letter codes\n",
    "    df[\"ISO\"] = df[\"Country\"].apply(get_iso3)\n",
    "\n",
    "    # Create output file path\n",
    "    output_dir = \"Data With Codes\"\n",
    "    os.makedirs(output_dir, exist_ok=True)  # Ensure output directory exists\n",
    "    output_path = os.path.join(output_dir, os.path.basename(file_path))\n",
    "\n",
    "    # Save to new CSV\n",
    "    df.to_csv(output_path, index=False)\n",
    "    \n",
    "    print(f\"Processed file saved to: {output_path}\")"
   ]
  },
  {
   "cell_type": "code",
   "execution_count": 7,
   "metadata": {},
   "outputs": [
    {
     "name": "stdout",
     "output_type": "stream",
     "text": [
      "Processing violence_prev_cleaned_ISO.csv...\n",
      "Processed file saved to: Data With Codes/violence_prev_cleaned_ISO.csv\n",
      "Processing pol_empower_cleaned.csv...\n",
      "Processed file saved to: Data With Codes/pol_empower_cleaned.csv\n",
      "Processing 2021-index-rankings_clean.csv...\n",
      "Processed file saved to: Data With Codes/2021-index-rankings_clean.csv\n",
      "Processing MMR-maternal-deaths_2020_MMR_country_leve_cleaned.csv...\n",
      "Processed file saved to: Data With Codes/MMR-maternal-deaths_2020_MMR_country_leve_cleaned.csv\n",
      "Processing enrollment_parity_clean.csv...\n",
      "Processed file saved to: Data With Codes/enrollment_parity_clean.csv\n",
      "Processing values_survey_clean.csv...\n"
     ]
    },
    {
     "name": "stderr",
     "output_type": "stream",
     "text": [
      "/var/folders/p2/bg9x0srx2dl9dp4nrwmw4nrc0000gn/T/ipykernel_9817/1538531965.py:7: DtypeWarning: Columns (346,348,350,580,581,582,583) have mixed types. Specify dtype option on import or set low_memory=False.\n",
      "  df = pd.read_csv(file_path)\n"
     ]
    },
    {
     "name": "stdout",
     "output_type": "stream",
     "text": [
      "Processed file saved to: Data With Codes/values_survey_clean.csv\n",
      "Processing gender_wage_gap_clean.csv...\n",
      "Processed file saved to: Data With Codes/gender_wage_gap_clean.csv\n",
      "Processing life_expectancy_clean.csv...\n",
      "Processed file saved to: Data With Codes/life_expectancy_clean.csv\n",
      "Processing tertiary_grad_clean.csv...\n",
      "Processed file saved to: Data With Codes/tertiary_grad_clean.csv\n",
      "Processing labor_participation_clean.csv...\n",
      "Processed file saved to: Data With Codes/labor_participation_clean.csv\n",
      "Processing expected_years_clean.csv...\n",
      "Processed file saved to: Data With Codes/expected_years_clean.csv\n"
     ]
    }
   ],
   "source": [
    "for file_name in os.listdir('Cleaned Data'):\n",
    "    if file_name.endswith(\".csv\"):\n",
    "        file_path = os.path.join('Cleaned Data', file_name)\n",
    "        print(f\"Processing {file_name}...\")\n",
    "        process_country_data(file_path)"
   ]
  },
  {
   "cell_type": "code",
   "execution_count": 21,
   "metadata": {},
   "outputs": [
    {
     "name": "stdout",
     "output_type": "stream",
     "text": [
      "Num countries in violence_prev_cleaned_ISO.csv: 192\n",
      "Num countries in pol_empower_cleaned.csv: 175\n",
      "Num countries in MMR-maternal-deaths_2020_MMR_country_leve_cleaned.csv: 184\n",
      "Num countries in life_expectancy_clean.csv: 183\n",
      "Num countries in labor_participation_clean.csv: 187\n",
      "Common ISO Codes across all CSV files: ['AFG', 'AGO', 'ALB', 'ARE', 'ARG', 'ARM', 'AUS', 'AUT', 'AZE', 'BDI', 'BEL', 'BEN', 'BFA', 'BGD', 'BGR', 'BHR', 'BIH', 'BLR', 'BOL', 'BRA', 'BRB', 'BTN', 'BWA', 'CAF', 'CAN', 'CHE', 'CHL', 'CHN', 'CIV', 'CMR', 'COD', 'COG', 'COL', 'COM', 'CRI', 'CUB', 'CYP', 'CZE', 'DEU', 'DJI', 'DNK', 'DOM', 'DZA', 'ECU', 'EGY', 'ERI', 'ESP', 'EST', 'ETH', 'FIN', 'FJI', 'FRA', 'GAB', 'GBR', 'GEO', 'GHA', 'GIN', 'GMB', 'GNB', 'GNQ', 'GRC', 'GTM', 'GUY', 'HND', 'HRV', 'HTI', 'HUN', 'IDN', 'IND', 'IRL', 'IRN', 'IRQ', 'ISL', 'ISR', 'ITA', 'JAM', 'JOR', 'JPN', 'KAZ', 'KEN', 'KGZ', 'KHM', 'KOR', 'KWT', 'LAO', 'LBN', 'LBR', 'LBY', 'LKA', 'LSO', 'LTU', 'LUX', 'LVA', 'MAR', 'MDA', 'MDG', 'MDV', 'MEX', 'MKD', 'MLI', 'MLT', 'MMR', 'MNE', 'MNG', 'MOZ', 'MRT', 'MUS', 'MWI', 'MYS', 'NAM', 'NER', 'NGA', 'NIC', 'NLD', 'NOR', 'NPL', 'NZL', 'OMN', 'PAK', 'PAN', 'PER', 'PHL', 'PNG', 'POL', 'PRT', 'PRY', 'QAT', 'ROU', 'RUS', 'RWA', 'SAU', 'SDN', 'SEN', 'SGP', 'SLB', 'SLE', 'SLV', 'SOM', 'SRB', 'SSD', 'STP', 'SUR', 'SVK', 'SVN', 'SWE', 'SWZ', 'SYR', 'TCD', 'TGO', 'THA', 'TJK', 'TKM', 'TLS', 'TTO', 'TUN', 'TZA', 'UGA', 'UKR', 'URY', 'USA', 'UZB', 'VEN', 'VNM', 'VUT', 'YEM', 'ZAF', 'ZMB', 'ZWE']\n"
     ]
    }
   ],
   "source": [
    "# Define the folder path\n",
    "folder_path = \"Data with Codes\"\n",
    "\n",
    "# Get list of all CSV files in the folder\n",
    "csv_files = [f for f in os.listdir(folder_path) if f.endswith(\".csv\")]\n",
    "\n",
    "# Initialize a variable to store common countries\n",
    "common_countries = None\n",
    "\n",
    "# Loop through each CSV file\n",
    "for file in csv_files:\n",
    "    file_path = os.path.join(folder_path, file)\n",
    "    \n",
    "    # Read the CSV file\n",
    "    df = pd.read_csv(file_path)\n",
    "    \n",
    "    # Ensure 'ISO Code' column exists\n",
    "    if 'ISO' not in df.columns:\n",
    "        print(f\"Skipping {file} (No ISO Code column)\")\n",
    "        continue\n",
    "    \n",
    "    # Convert the column to a set of unique values\n",
    "    country_set = set(df['ISO'].dropna().unique())\n",
    "    print(f\"Num countries in {file}: {len(country_set)}\")\n",
    "    \n",
    "    # Update common_countries by finding intersection\n",
    "    if common_countries is None:\n",
    "        common_countries = country_set  # First file initializes the set\n",
    "    else:\n",
    "        common_countries &= country_set  # Keep only common elements\n",
    "\n",
    "# Convert the final set to a sorted list\n",
    "common_countries_list = sorted(common_countries)\n",
    "\n",
    "# Print or save results\n",
    "print(\"Common ISO Codes across all CSV files:\", common_countries_list)\n"
   ]
  },
  {
   "cell_type": "code",
   "execution_count": 22,
   "metadata": {},
   "outputs": [
    {
     "data": {
      "text/plain": [
       "168"
      ]
     },
     "execution_count": 22,
     "metadata": {},
     "output_type": "execute_result"
    }
   ],
   "source": [
    "len(common_countries_list)"
   ]
  },
  {
   "cell_type": "code",
   "execution_count": 18,
   "metadata": {},
   "outputs": [],
   "source": [
    "df = pd.DataFrame(common_countries_list, columns=['ISO'])\n",
    "\n",
    "# Save the DataFrame to a CSV file\n",
    "df.to_csv('common_countries.csv', index=False)"
   ]
  }
 ],
 "metadata": {
  "kernelspec": {
   "display_name": "dsan5400",
   "language": "python",
   "name": "python3"
  },
  "language_info": {
   "codemirror_mode": {
    "name": "ipython",
    "version": 3
   },
   "file_extension": ".py",
   "mimetype": "text/x-python",
   "name": "python",
   "nbconvert_exporter": "python",
   "pygments_lexer": "ipython3",
   "version": "3.11.10"
  }
 },
 "nbformat": 4,
 "nbformat_minor": 2
}
