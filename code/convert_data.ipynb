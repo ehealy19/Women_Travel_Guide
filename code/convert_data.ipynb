{
 "cells": [
  {
   "cell_type": "code",
   "execution_count": 2,
   "metadata": {},
   "outputs": [],
   "source": [
    "import pandas as pd\n",
    "import os"
   ]
  },
  {
   "cell_type": "code",
   "execution_count": 3,
   "metadata": {},
   "outputs": [
    {
     "name": "stdout",
     "output_type": "stream",
     "text": [
      "71\n"
     ]
    }
   ],
   "source": [
    "common_countries = pd.read_csv(\"../data/common_files/common_countries.csv\")\n",
    "common_iso_codes = set(common_countries[\"ISO\"])\n",
    "print(len(common_iso_codes))"
   ]
  },
  {
   "cell_type": "code",
   "execution_count": null,
   "metadata": {},
   "outputs": [],
   "source": [
    "# Directory containing CSV files\n",
    "data_dir = \"../data/clean_data/\"\n",
    "json_output_dir = \"../data/analysis_data/json_files\"\n",
    "csv_ouput_dir = \"../data/analysis_data/csv_files\"\n",
    "\n",
    "# Loop through each CSV in the directory\n",
    "for file in os.listdir(data_dir):\n",
    "    if file.endswith(\".csv\"):\n",
    "        file_path = os.path.join(data_dir, file)\n",
    "        df = pd.read_csv(file_path)\n",
    "\n",
    "        # Assuming the ISO code column is named \"ISO\"\n",
    "        df_filtered = df[df[\"ISO\"].isin(common_iso_codes)]\n",
    "        df_filtered.to_csv(os.path.join(csv_ouput_dir, file), index=False)\n",
    "\n",
    "\n",
    "        # Convert to JSON and save\n",
    "        json_filename = os.path.splitext(file)[0] + \".json\"  # Change extension\n",
    "        df_filtered.to_json(os.path.join(json_output_dir, json_filename), orient=\"records\", indent=2)"
   ]
  },
  {
   "cell_type": "code",
   "execution_count": 26,
   "metadata": {},
   "outputs": [],
   "source": [
    "# Directory containing CSV files\n",
    "data_dir = \"../data/analysis_data/csv_files/\"\n",
    "merged_df = pd.DataFrame()\n",
    "columns_to_drop = {\"Rank\", \"SERIES Description\", \"TIME_PERIOD\", \"Year\", \"Country\"}\n",
    "\n",
    "# Loop through each CSV and merge data\n",
    "for file in os.listdir(data_dir):\n",
    "    if file.endswith(\".csv\"):\n",
    "        file_path = os.path.join(data_dir, file)\n",
    "        df = pd.read_csv(file_path)\n",
    "        df = df.drop(columns=[col for col in columns_to_drop if col in df.columns])\n",
    "\n",
    "        if merged_df.empty:\n",
    "            merged_df = df[df[\"ISO\"].isin(common_iso_codes)]\n",
    "        else:\n",
    "            df = df[df[\"ISO\"].isin(common_iso_codes)]\n",
    "            merged_df = pd.merge(merged_df, df, on=[\"ISO\"], how=\"outer\")\n"
   ]
  },
  {
   "cell_type": "code",
   "execution_count": 27,
   "metadata": {},
   "outputs": [],
   "source": [
    "# List of \"bad\" metrics where lower values are worse\n",
    "bad_metrics = [\"MMR\"]\n",
    "\n",
    "# Normalize all numeric columns\n",
    "for col in merged_df.columns:\n",
    "    if col not in [\"ISO\"]:\n",
    "        # Invert \"bad\" metrics (min-max normalization, flipped for bad metrics)\n",
    "        if col in bad_metrics:\n",
    "            max_val = merged_df[col].max()\n",
    "            merged_df[col] = (max_val - merged_df[col]) / (max_val - merged_df[col].min())\n",
    "        else:\n",
    "            # Normalization for good metrics (min-max normalization)\n",
    "            min_val = merged_df[col].min()\n",
    "            max_val = merged_df[col].max()\n",
    "            merged_df[col] = (merged_df[col] - min_val) / (max_val - min_val)\n"
   ]
  },
  {
   "cell_type": "code",
   "execution_count": 28,
   "metadata": {},
   "outputs": [],
   "source": [
    "country_column = pd.read_csv('../data/analysis_data/csv_files/enrollment_parity_clean.csv')\n",
    "country_column = country_column[['ISO', 'Country']]\n",
    "merged_df = pd.merge(merged_df, country_column, on='ISO', how='outer')\n",
    "\n",
    "# Save merged data as JSON\n",
    "merged_df.to_json(\"../data/common_files/merged_data.json\", orient=\"records\", indent=2)"
   ]
  },
  {
   "cell_type": "code",
   "execution_count": 29,
   "metadata": {},
   "outputs": [],
   "source": [
    "import geopandas as gpd\n",
    "\n",
    "# Load your geojson file\n",
    "geojson_path = \"../data/common_files/countries.geojson\"\n",
    "gdf = gpd.read_file(geojson_path)\n",
    "\n",
    "# Merge the geojson with the normalized data\n",
    "gdf = gdf.merge(merged_df, left_on=\"ISO_A3\", right_on=\"ISO\", how=\"left\")\n",
    "\n",
    "# Now gdf contains both geometry and data\n",
    "gdf.to_file(\"../data/common_files/merged_geojson.geojson\", driver=\"GeoJSON\")"
   ]
  }
 ],
 "metadata": {
  "kernelspec": {
   "display_name": "5200-lab05",
   "language": "python",
   "name": "python3"
  },
  "language_info": {
   "codemirror_mode": {
    "name": "ipython",
    "version": 3
   },
   "file_extension": ".py",
   "mimetype": "text/x-python",
   "name": "python",
   "nbconvert_exporter": "python",
   "pygments_lexer": "ipython3",
   "version": "3.10.16"
  }
 },
 "nbformat": 4,
 "nbformat_minor": 2
}
